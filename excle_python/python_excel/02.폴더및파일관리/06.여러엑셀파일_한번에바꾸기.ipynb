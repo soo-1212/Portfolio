{
 "cells": [
  {
   "cell_type": "code",
   "execution_count": 2,
   "metadata": {},
   "outputs": [],
   "source": [
    "import xlwings as xw\n",
    "import glob"
   ]
  },
  {
   "cell_type": "code",
   "execution_count": null,
   "metadata": {},
   "outputs": [],
   "source": [
    "app = xw.App(add_book=False)\n",
    "\n",
    "\n",
    "wb = app.books.open(r\"C:\\Users\\yusoo\\Documents\\공유폴더\\계산서파일\\세금계산서_놀부전자.xlsx\")\n",
    "\n",
    "ws = wb.sheets['자료입력페이지']\n",
    "\n",
    "ws.range('C14').value = \"2030-01-01\"\n",
    "\n",
    "wb.save()\n",
    "\n",
    "app.quit()\n",
    "\n"
   ]
  },
  {
   "cell_type": "code",
   "execution_count": 5,
   "metadata": {},
   "outputs": [
    {
     "data": {
      "text/plain": [
       "['C:\\\\Users\\\\yusoo\\\\Documents\\\\공유폴더\\\\계산서파일\\\\세금계산서_놀부전자.xlsx',\n",
       " 'C:\\\\Users\\\\yusoo\\\\Documents\\\\공유폴더\\\\계산서파일\\\\세금계산서_제비공업.xlsx',\n",
       " 'C:\\\\Users\\\\yusoo\\\\Documents\\\\공유폴더\\\\계산서파일\\\\세금계산서_콩쥐하이텍.xlsx',\n",
       " 'C:\\\\Users\\\\yusoo\\\\Documents\\\\공유폴더\\\\계산서파일\\\\세금계산서_팥쥐엔지니어링.xlsx',\n",
       " 'C:\\\\Users\\\\yusoo\\\\Documents\\\\공유폴더\\\\계산서파일\\\\세금계산서_흥부전자.xlsx']"
      ]
     },
     "execution_count": 5,
     "metadata": {},
     "output_type": "execute_result"
    }
   ],
   "source": [
    "file_list = glob.glob(r\"C:\\Users\\yusoo\\Documents\\공유폴더\\계산서파일\\*\")\n",
    "file_list\n"
   ]
  },
  {
   "cell_type": "code",
   "execution_count": 6,
   "metadata": {},
   "outputs": [],
   "source": [
    "\n",
    "app = xw.App(add_book=False)\n",
    "\n",
    "for file in file_list:\n",
    "\n",
    "    wb = app.books.open(file)\n",
    "    \n",
    "    ws = wb.sheets['자료입력페이지']\n",
    "\n",
    "    ws.range('C14').value = \"2030-01-01\"\n",
    "\n",
    "    wb.save()\n",
    "    \n",
    "    wb.close()\n",
    "\n",
    "app.quit()\n",
    "\n",
    "\n",
    "    \n",
    "    "
   ]
  }
 ],
 "metadata": {
  "kernelspec": {
   "display_name": "Python 3",
   "language": "python",
   "name": "python3"
  },
  "language_info": {
   "codemirror_mode": {
    "name": "ipython",
    "version": 3
   },
   "file_extension": ".py",
   "mimetype": "text/x-python",
   "name": "python",
   "nbconvert_exporter": "python",
   "pygments_lexer": "ipython3",
   "version": "3.13.2"
  }
 },
 "nbformat": 4,
 "nbformat_minor": 2
}
