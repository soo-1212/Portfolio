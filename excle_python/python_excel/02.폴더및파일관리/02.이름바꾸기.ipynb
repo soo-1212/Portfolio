{
 "cells": [
  {
   "cell_type": "code",
   "execution_count": null,
   "metadata": {},
   "outputs": [],
   "source": [
    "import random\n",
    "for i in range(1, 101):\n",
    "    f = open(f'컴퓨터/판매_데이터{i}.txt', 'w', encoding='utf-8')\n",
    "    f.write(f'{random.randint(1, 100)}병')\n",
    "    f.close()"
   ]
  },
  {
   "cell_type": "code",
   "execution_count": null,
   "metadata": {},
   "outputs": [],
   "source": [
    "import os \n",
    "for i in range(1, 101):\n",
    "    path1 = f'컴퓨터/판매_데이터{i}.txt'\n",
    "    path2 = f'컴퓨터/sale_data{i}.txt'\n",
    "    os.rename(path1, path2)"
   ]
  }
 ],
 "metadata": {
  "language_info": {
   "name": "python"
  }
 },
 "nbformat": 4,
 "nbformat_minor": 2
}
