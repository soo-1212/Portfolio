{
 "cells": [
  {
   "cell_type": "code",
   "execution_count": 1,
   "metadata": {},
   "outputs": [],
   "source": [
    "import os, glob, shutil"
   ]
  },
  {
   "cell_type": "code",
   "execution_count": 4,
   "metadata": {},
   "outputs": [
    {
     "data": {
      "text/plain": [
       "['C:\\\\Users\\\\yusoo\\\\Documents\\\\공유폴더\\\\GS칼텍스_20300203_보고서.docx',\n",
       " 'C:\\\\Users\\\\yusoo\\\\Documents\\\\공유폴더\\\\KT rolster_20300112_보고서.pptx',\n",
       " 'C:\\\\Users\\\\yusoo\\\\Documents\\\\공유폴더\\\\농심_20300112_보고서.pptx',\n",
       " 'C:\\\\Users\\\\yusoo\\\\Documents\\\\공유폴더\\\\신세계그룹_20300124_보고서.docx',\n",
       " 'C:\\\\Users\\\\yusoo\\\\Documents\\\\공유폴더\\\\아시아나_20300124_보고서.docx',\n",
       " 'C:\\\\Users\\\\yusoo\\\\Documents\\\\공유폴더\\\\포스코_20300120_보고서.docx',\n",
       " 'C:\\\\Users\\\\yusoo\\\\Documents\\\\공유폴더\\\\현대백화점_20300213_보고서.pptx']"
      ]
     },
     "execution_count": 4,
     "metadata": {},
     "output_type": "execute_result"
    }
   ],
   "source": [
    "report_files= glob.glob(r\"C:\\Users\\yusoo\\Documents\\공유폴더\\*보고서*\")\n",
    "report_files"
   ]
  },
  {
   "cell_type": "code",
   "execution_count": 5,
   "metadata": {},
   "outputs": [],
   "source": [
    "if not os.path.exists(r\"C:\\Users\\yusoo\\Documents\\공유폴더\\보고서파일\"):\n",
    "    os.mkdir(r\"C:\\Users\\yusoo\\Documents\\공유폴더\\보고서파일\")"
   ]
  },
  {
   "cell_type": "code",
   "execution_count": 20,
   "metadata": {},
   "outputs": [],
   "source": [
    "for file in report_files:\n",
    "    shutil.move(file, r\"C:\\Users\\yusoo\\Documents\\공유폴더\\보고서파일\")"
   ]
  },
  {
   "cell_type": "code",
   "execution_count": 21,
   "metadata": {},
   "outputs": [
    {
     "data": {
      "text/plain": [
       "['C:\\\\Users\\\\yusoo\\\\Documents\\\\공유폴더\\\\SK브로드밴드_20300104_데이터.xlsx',\n",
       " 'C:\\\\Users\\\\yusoo\\\\Documents\\\\공유폴더\\\\SOIL_20300310_데이터.csv',\n",
       " 'C:\\\\Users\\\\yusoo\\\\Documents\\\\공유폴더\\\\농협_20300105_데이터.xlsx',\n",
       " 'C:\\\\Users\\\\yusoo\\\\Documents\\\\공유폴더\\\\두산그룹_20300205_데이터.csv',\n",
       " 'C:\\\\Users\\\\yusoo\\\\Documents\\\\공유폴더\\\\삼양그룹_20300102_데이터.xlsx',\n",
       " 'C:\\\\Users\\\\yusoo\\\\Documents\\\\공유폴더\\\\셀트리온_20300210_데이터.csv',\n",
       " 'C:\\\\Users\\\\yusoo\\\\Documents\\\\공유폴더\\\\코오롱_20300104_데이터.xlsx',\n",
       " 'C:\\\\Users\\\\yusoo\\\\Documents\\\\공유폴더\\\\효성그룹_20300310_데이터.csv']"
      ]
     },
     "execution_count": 21,
     "metadata": {},
     "output_type": "execute_result"
    }
   ],
   "source": [
    "data_files= glob.glob(r\"C:\\Users\\yusoo\\Documents\\공유폴더\\*데이터*\")\n",
    "data_files"
   ]
  },
  {
   "cell_type": "code",
   "execution_count": 22,
   "metadata": {},
   "outputs": [],
   "source": [
    "if not os.path.exists(r\"C:\\Users\\yusoo\\Documents\\공유폴더\\데이터파일\"):\n",
    "    os.mkdir(r\"C:\\Users\\yusoo\\Documents\\공유폴더\\데이터파일\")"
   ]
  },
  {
   "cell_type": "code",
   "execution_count": 23,
   "metadata": {},
   "outputs": [],
   "source": [
    "for file in data_files:\n",
    "    shutil.move(file, r\"C:\\Users\\yusoo\\Documents\\공유폴더\\데이터파일\")"
   ]
  },
  {
   "cell_type": "code",
   "execution_count": 13,
   "metadata": {},
   "outputs": [],
   "source": [
    "target_folder = r\"C:\\Users\\yusoo\\Documents\\공유폴더\"\n",
    "keyword_list = ['보고서', '데이터', '계산서']\n",
    "for keyword in keyword_list:\n",
    "    file_list = glob.glob(f\"{target_folder}/*{keyword}*\")\n",
    "    if not os.path.exists(f\"{target_folder}/{keyword}파일\"):\n",
    "        os.mkdir(f\"{target_folder}/{keyword}파일\")\n",
    "    for file in file_list:\n",
    "        shutil.move(file, f\"{target_folder}/{keyword}파일\")"
   ]
  },
  {
   "cell_type": "code",
   "execution_count": 14,
   "metadata": {},
   "outputs": [],
   "source": [
    "#되돌리기\n",
    "target_folder = r\"C:\\Users\\yusoo\\Documents\\공유폴더\"\n",
    "keyword_list = ['보고서', '데이터', '계산서']\n",
    "\n",
    "for keyword in keyword_list:\n",
    "    file_list = glob.glob(f\"{target_folder}/{keyword}파일/*\")\n",
    "    for file in file_list:\n",
    "        shutil.move(file, f\"{target_folder}\")\n",
    "    os.rmdir(f\"{target_folder}/{keyword}파일\")\n",
    "        \n",
    "\n"
   ]
  },
  {
   "cell_type": "code",
   "execution_count": null,
   "metadata": {},
   "outputs": [],
   "source": []
  }
 ],
 "metadata": {
  "kernelspec": {
   "display_name": "Python 3",
   "language": "python",
   "name": "python3"
  },
  "language_info": {
   "codemirror_mode": {
    "name": "ipython",
    "version": 3
   },
   "file_extension": ".py",
   "mimetype": "text/x-python",
   "name": "python",
   "nbconvert_exporter": "python",
   "pygments_lexer": "ipython3",
   "version": "3.13.2"
  }
 },
 "nbformat": 4,
 "nbformat_minor": 2
}
